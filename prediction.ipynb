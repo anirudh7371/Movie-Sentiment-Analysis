{
 "cells": [
  {
   "cell_type": "code",
   "execution_count": 1,
   "metadata": {},
   "outputs": [],
   "source": [
    "import pandas as pd\n",
    "import numpy as np\n",
    "import tensorflow as tf\n",
    "from tensorflow.keras.datasets import imdb\n",
    "from tensorflow.keras.models import load_model\n",
    "from tensorflow.keras.preprocessing import sequence"
   ]
  },
  {
   "cell_type": "code",
   "execution_count": 2,
   "metadata": {},
   "outputs": [],
   "source": [
    "word_index= imdb.get_word_index()\n",
    "reverse_word_index = {value:key for key,value in word_index.items()}\n",
    "vocab_size=10000\n"
   ]
  },
  {
   "cell_type": "code",
   "execution_count": 3,
   "metadata": {},
   "outputs": [
    {
     "name": "stderr",
     "output_type": "stream",
     "text": [
      "WARNING:absl:Compiled the loaded model, but the compiled metrics have yet to be built. `model.compile_metrics` will be empty until you train or evaluate the model.\n"
     ]
    },
    {
     "data": {
      "text/html": [
       "<pre style=\"white-space:pre;overflow-x:auto;line-height:normal;font-family:Menlo,'DejaVu Sans Mono',consolas,'Courier New',monospace\"><span style=\"font-weight: bold\">Model: \"sequential\"</span>\n",
       "</pre>\n"
      ],
      "text/plain": [
       "\u001b[1mModel: \"sequential\"\u001b[0m\n"
      ]
     },
     "metadata": {},
     "output_type": "display_data"
    },
    {
     "data": {
      "text/html": [
       "<pre style=\"white-space:pre;overflow-x:auto;line-height:normal;font-family:Menlo,'DejaVu Sans Mono',consolas,'Courier New',monospace\">┏━━━━━━━━━━━━━━━━━━━━━━━━━━━━━━━━━┳━━━━━━━━━━━━━━━━━━━━━━━━┳━━━━━━━━━━━━━━━┓\n",
       "┃<span style=\"font-weight: bold\"> Layer (type)                    </span>┃<span style=\"font-weight: bold\"> Output Shape           </span>┃<span style=\"font-weight: bold\">       Param # </span>┃\n",
       "┡━━━━━━━━━━━━━━━━━━━━━━━━━━━━━━━━━╇━━━━━━━━━━━━━━━━━━━━━━━━╇━━━━━━━━━━━━━━━┩\n",
       "│ embedding (<span style=\"color: #0087ff; text-decoration-color: #0087ff\">Embedding</span>)           │ (<span style=\"color: #00af00; text-decoration-color: #00af00\">32</span>, <span style=\"color: #00af00; text-decoration-color: #00af00\">500</span>, <span style=\"color: #00af00; text-decoration-color: #00af00\">128</span>)         │     <span style=\"color: #00af00; text-decoration-color: #00af00\">1,280,000</span> │\n",
       "├─────────────────────────────────┼────────────────────────┼───────────────┤\n",
       "│ simple_rnn (<span style=\"color: #0087ff; text-decoration-color: #0087ff\">SimpleRNN</span>)          │ (<span style=\"color: #00af00; text-decoration-color: #00af00\">32</span>, <span style=\"color: #00af00; text-decoration-color: #00af00\">128</span>)              │        <span style=\"color: #00af00; text-decoration-color: #00af00\">32,896</span> │\n",
       "├─────────────────────────────────┼────────────────────────┼───────────────┤\n",
       "│ dense (<span style=\"color: #0087ff; text-decoration-color: #0087ff\">Dense</span>)                   │ (<span style=\"color: #00af00; text-decoration-color: #00af00\">32</span>, <span style=\"color: #00af00; text-decoration-color: #00af00\">1</span>)                │           <span style=\"color: #00af00; text-decoration-color: #00af00\">129</span> │\n",
       "└─────────────────────────────────┴────────────────────────┴───────────────┘\n",
       "</pre>\n"
      ],
      "text/plain": [
       "┏━━━━━━━━━━━━━━━━━━━━━━━━━━━━━━━━━┳━━━━━━━━━━━━━━━━━━━━━━━━┳━━━━━━━━━━━━━━━┓\n",
       "┃\u001b[1m \u001b[0m\u001b[1mLayer (type)                   \u001b[0m\u001b[1m \u001b[0m┃\u001b[1m \u001b[0m\u001b[1mOutput Shape          \u001b[0m\u001b[1m \u001b[0m┃\u001b[1m \u001b[0m\u001b[1m      Param #\u001b[0m\u001b[1m \u001b[0m┃\n",
       "┡━━━━━━━━━━━━━━━━━━━━━━━━━━━━━━━━━╇━━━━━━━━━━━━━━━━━━━━━━━━╇━━━━━━━━━━━━━━━┩\n",
       "│ embedding (\u001b[38;5;33mEmbedding\u001b[0m)           │ (\u001b[38;5;34m32\u001b[0m, \u001b[38;5;34m500\u001b[0m, \u001b[38;5;34m128\u001b[0m)         │     \u001b[38;5;34m1,280,000\u001b[0m │\n",
       "├─────────────────────────────────┼────────────────────────┼───────────────┤\n",
       "│ simple_rnn (\u001b[38;5;33mSimpleRNN\u001b[0m)          │ (\u001b[38;5;34m32\u001b[0m, \u001b[38;5;34m128\u001b[0m)              │        \u001b[38;5;34m32,896\u001b[0m │\n",
       "├─────────────────────────────────┼────────────────────────┼───────────────┤\n",
       "│ dense (\u001b[38;5;33mDense\u001b[0m)                   │ (\u001b[38;5;34m32\u001b[0m, \u001b[38;5;34m1\u001b[0m)                │           \u001b[38;5;34m129\u001b[0m │\n",
       "└─────────────────────────────────┴────────────────────────┴───────────────┘\n"
      ]
     },
     "metadata": {},
     "output_type": "display_data"
    },
    {
     "data": {
      "text/html": [
       "<pre style=\"white-space:pre;overflow-x:auto;line-height:normal;font-family:Menlo,'DejaVu Sans Mono',consolas,'Courier New',monospace\"><span style=\"font-weight: bold\"> Total params: </span><span style=\"color: #00af00; text-decoration-color: #00af00\">1,313,027</span> (5.01 MB)\n",
       "</pre>\n"
      ],
      "text/plain": [
       "\u001b[1m Total params: \u001b[0m\u001b[38;5;34m1,313,027\u001b[0m (5.01 MB)\n"
      ]
     },
     "metadata": {},
     "output_type": "display_data"
    },
    {
     "data": {
      "text/html": [
       "<pre style=\"white-space:pre;overflow-x:auto;line-height:normal;font-family:Menlo,'DejaVu Sans Mono',consolas,'Courier New',monospace\"><span style=\"font-weight: bold\"> Trainable params: </span><span style=\"color: #00af00; text-decoration-color: #00af00\">1,313,025</span> (5.01 MB)\n",
       "</pre>\n"
      ],
      "text/plain": [
       "\u001b[1m Trainable params: \u001b[0m\u001b[38;5;34m1,313,025\u001b[0m (5.01 MB)\n"
      ]
     },
     "metadata": {},
     "output_type": "display_data"
    },
    {
     "data": {
      "text/html": [
       "<pre style=\"white-space:pre;overflow-x:auto;line-height:normal;font-family:Menlo,'DejaVu Sans Mono',consolas,'Courier New',monospace\"><span style=\"font-weight: bold\"> Non-trainable params: </span><span style=\"color: #00af00; text-decoration-color: #00af00\">0</span> (0.00 B)\n",
       "</pre>\n"
      ],
      "text/plain": [
       "\u001b[1m Non-trainable params: \u001b[0m\u001b[38;5;34m0\u001b[0m (0.00 B)\n"
      ]
     },
     "metadata": {},
     "output_type": "display_data"
    },
    {
     "data": {
      "text/html": [
       "<pre style=\"white-space:pre;overflow-x:auto;line-height:normal;font-family:Menlo,'DejaVu Sans Mono',consolas,'Courier New',monospace\"><span style=\"font-weight: bold\"> Optimizer params: </span><span style=\"color: #00af00; text-decoration-color: #00af00\">2</span> (12.00 B)\n",
       "</pre>\n"
      ],
      "text/plain": [
       "\u001b[1m Optimizer params: \u001b[0m\u001b[38;5;34m2\u001b[0m (12.00 B)\n"
      ]
     },
     "metadata": {},
     "output_type": "display_data"
    },
    {
     "name": "stdout",
     "output_type": "stream",
     "text": [
      "None\n"
     ]
    }
   ],
   "source": [
    "#Loading the model\n",
    "model= load_model('rnn_model.h5')\n",
    "print(model.summary())"
   ]
  },
  {
   "cell_type": "code",
   "execution_count": 4,
   "metadata": {},
   "outputs": [
    {
     "data": {
      "text/plain": [
       "[array([[ 1.0117029e+00, -1.1682283e+00,  2.9401049e-01, ...,\n",
       "         -7.3064995e-01,  5.4739738e-01, -7.0495671e-01],\n",
       "        [-2.0603905e-02, -4.9181625e-02,  5.3549919e-02, ...,\n",
       "         -2.2411125e-02,  2.3843190e-02,  3.3557836e-02],\n",
       "        [ 6.7269631e-02,  4.2917483e-02, -6.1557490e-02, ...,\n",
       "          7.7281184e-02, -9.5631247e-03,  1.2442791e-02],\n",
       "        ...,\n",
       "        [ 4.3811772e-02,  8.5333118e-04, -5.6666445e-02, ...,\n",
       "         -2.9619614e-02,  6.2982239e-02, -1.0057755e-01],\n",
       "        [-1.2677735e-01,  9.3135282e-02, -2.3744679e-03, ...,\n",
       "          1.3140626e-01, -1.3070485e-01,  9.3756221e-02],\n",
       "        [ 2.3993378e-04, -1.1422863e-01,  8.4710531e-02, ...,\n",
       "         -1.2370526e-01,  1.0437365e-01,  9.0465948e-02]], dtype=float32),\n",
       " array([[-0.05521768,  0.09437186, -0.1727802 , ..., -0.09848275,\n",
       "         -0.10969616, -0.07852735],\n",
       "        [-0.08092144, -0.02895899,  0.09870197, ..., -0.07731458,\n",
       "         -0.11765741, -0.09309857],\n",
       "        [ 0.02068501,  0.04152952,  0.20681238, ...,  0.07878285,\n",
       "          0.11933407,  0.02559081],\n",
       "        ...,\n",
       "        [-0.02398155, -0.09618586, -0.18850851, ...,  0.05463197,\n",
       "         -0.03783783,  0.0972975 ],\n",
       "        [ 0.04561763,  0.00236473,  0.03956668, ..., -0.1652361 ,\n",
       "         -0.06738289, -0.00545425],\n",
       "        [ 0.0591168 ,  0.04934543, -0.13386822, ..., -0.1447215 ,\n",
       "          0.08976847, -0.02694715]], dtype=float32),\n",
       " array([[ 0.07440876,  0.04458362, -0.11400725, ..., -0.01811101,\n",
       "          0.04674431,  0.05624717],\n",
       "        [-0.05933664, -0.06557472, -0.04212791, ..., -0.01475216,\n",
       "         -0.06317213, -0.00211869],\n",
       "        [-0.03435183,  0.05773339,  0.02765095, ..., -0.03246063,\n",
       "         -0.07258084,  0.11942974],\n",
       "        ...,\n",
       "        [-0.13991214,  0.06595796, -0.11508071, ...,  0.08046515,\n",
       "         -0.04404374, -0.11836822],\n",
       "        [ 0.13318543, -0.16159822,  0.20642559, ..., -0.15109237,\n",
       "          0.01337783,  0.13084185],\n",
       "        [-0.06925754, -0.01574528,  0.07074585, ..., -0.1389281 ,\n",
       "         -0.01893568,  0.07414024]], dtype=float32),\n",
       " array([-1.03457915e-02, -7.30032474e-03, -5.38117392e-03, -8.86763260e-03,\n",
       "         3.39168985e-03, -2.17628609e-02, -9.90764890e-03, -1.86328422e-02,\n",
       "        -5.71307261e-03,  7.16738030e-03, -9.81706288e-03,  6.87474944e-03,\n",
       "        -5.06813219e-03, -3.00589837e-02, -3.20997555e-03, -1.84628367e-02,\n",
       "        -1.22149419e-02, -8.46480113e-03, -3.33037833e-03, -1.09788654e-02,\n",
       "         5.73451258e-02, -1.17001943e-02,  2.75541749e-02,  1.35769388e-02,\n",
       "        -1.50270835e-02, -2.01570373e-02, -1.58029851e-02, -2.74524335e-02,\n",
       "         1.46685215e-02, -1.05074514e-02, -9.49804764e-03,  9.20739258e-04,\n",
       "         1.19636429e-03,  4.18008352e-03, -1.81192085e-02,  2.62763794e-03,\n",
       "        -1.31923715e-02, -2.58077751e-03,  3.72329950e-02, -1.03887850e-02,\n",
       "         8.19608383e-03, -2.75040362e-02, -1.15449494e-02, -8.36455263e-03,\n",
       "        -2.16554943e-02, -1.27364434e-02,  5.60273975e-03, -1.26243187e-02,\n",
       "        -2.79252287e-02, -1.02312444e-02, -6.43011741e-03, -1.09194182e-02,\n",
       "        -4.60775606e-02, -3.24208960e-02,  1.97304189e-02,  9.71997343e-03,\n",
       "        -3.26141752e-02, -9.62693617e-03,  1.00108804e-02, -2.89413035e-02,\n",
       "        -1.48291234e-02,  8.41881335e-03, -6.49120240e-03, -1.42366365e-02,\n",
       "        -6.87593874e-03, -1.26799736e-02,  2.58606449e-02, -1.16478773e-02,\n",
       "        -1.42114200e-02, -1.77348638e-03,  2.60739941e-02,  2.14517638e-02,\n",
       "        -2.33491994e-02, -5.04728127e-03, -3.39964777e-03,  8.44162889e-03,\n",
       "        -3.44218104e-03, -2.52263551e-03, -1.95606221e-02,  8.63720383e-03,\n",
       "        -3.95469787e-03, -3.32390666e-02,  4.66246856e-03, -7.41989352e-03,\n",
       "         1.04422111e-03, -1.61956251e-02, -3.30403000e-02,  1.69698545e-03,\n",
       "        -5.66529779e-05, -4.95997770e-03, -3.12789157e-02, -3.62494737e-02,\n",
       "        -2.69763675e-02,  9.38470382e-03,  5.97033324e-03, -2.51691672e-03,\n",
       "        -3.51169221e-02, -3.32891126e-03, -1.22486241e-02,  9.15817469e-02,\n",
       "        -1.21571422e-02, -1.22777801e-02,  1.84039120e-02, -2.94448659e-02,\n",
       "        -1.15641747e-02, -2.88907606e-02, -5.84607664e-03, -1.69267822e-02,\n",
       "        -3.19779268e-03,  2.76087951e-02, -5.92783233e-03, -2.45721135e-02,\n",
       "        -1.47358468e-02, -1.30084977e-02, -2.00297628e-02, -5.54695306e-03,\n",
       "        -8.54999479e-03, -1.26571683e-02, -1.02180634e-02,  2.50536185e-02,\n",
       "        -9.93506890e-03, -2.79572327e-02, -4.57098288e-03, -3.30580026e-02,\n",
       "         1.57647319e-02,  1.81235410e-02, -2.91296802e-02, -5.28638586e-02],\n",
       "       dtype=float32),\n",
       " array([[ 2.03651905e-01],\n",
       "        [ 1.70425653e-01],\n",
       "        [-6.38818517e-02],\n",
       "        [ 2.39734873e-01],\n",
       "        [ 4.50659357e-02],\n",
       "        [ 1.84801280e-01],\n",
       "        [ 2.47356504e-01],\n",
       "        [ 1.19252451e-01],\n",
       "        [ 2.83185750e-01],\n",
       "        [-1.17586508e-01],\n",
       "        [ 1.78797826e-01],\n",
       "        [-6.11590505e-01],\n",
       "        [ 2.42315903e-01],\n",
       "        [ 1.29417866e-01],\n",
       "        [-1.63333848e-01],\n",
       "        [-2.68603772e-01],\n",
       "        [-6.22785278e-02],\n",
       "        [-9.89674255e-02],\n",
       "        [-1.80768579e-01],\n",
       "        [ 4.57678288e-02],\n",
       "        [ 7.61430860e-02],\n",
       "        [ 2.51703382e-01],\n",
       "        [ 3.37843180e-01],\n",
       "        [-1.98169172e-01],\n",
       "        [ 1.66701481e-01],\n",
       "        [ 6.74086511e-02],\n",
       "        [-2.04097286e-01],\n",
       "        [ 6.07081652e-02],\n",
       "        [-2.06563145e-01],\n",
       "        [ 1.32965535e-01],\n",
       "        [ 1.37350187e-01],\n",
       "        [-6.99377526e-03],\n",
       "        [-5.86763918e-02],\n",
       "        [ 5.15072286e-01],\n",
       "        [ 1.96966320e-01],\n",
       "        [-4.06429291e-01],\n",
       "        [ 6.79295063e-02],\n",
       "        [-6.06757589e-02],\n",
       "        [-7.92985857e-02],\n",
       "        [ 1.75407574e-01],\n",
       "        [ 1.19321093e-01],\n",
       "        [-6.41771480e-02],\n",
       "        [ 1.20876461e-01],\n",
       "        [-4.18679386e-01],\n",
       "        [-4.08898115e-01],\n",
       "        [ 1.78025067e-01],\n",
       "        [-2.10735966e-02],\n",
       "        [ 4.37695329e-04],\n",
       "        [-4.47021425e-02],\n",
       "        [ 6.72279894e-02],\n",
       "        [ 3.00490260e-01],\n",
       "        [-1.84437949e-02],\n",
       "        [-1.89565912e-01],\n",
       "        [ 3.85511369e-02],\n",
       "        [ 3.57356817e-01],\n",
       "        [ 1.02012260e-02],\n",
       "        [ 4.37845200e-01],\n",
       "        [ 6.22892901e-02],\n",
       "        [-1.18727736e-01],\n",
       "        [ 1.23728625e-01],\n",
       "        [-2.30189323e-01],\n",
       "        [ 2.12189674e-01],\n",
       "        [ 9.27961245e-02],\n",
       "        [ 2.04906598e-01],\n",
       "        [-1.89053327e-01],\n",
       "        [-1.31716162e-01],\n",
       "        [-1.68835014e-01],\n",
       "        [-1.81506500e-01],\n",
       "        [ 1.42057180e-01],\n",
       "        [-3.00217688e-01],\n",
       "        [-4.46651764e-02],\n",
       "        [-7.15554580e-02],\n",
       "        [-2.32030094e-01],\n",
       "        [-4.29046422e-01],\n",
       "        [ 2.04576731e-01],\n",
       "        [-1.20779760e-01],\n",
       "        [-7.45167136e-02],\n",
       "        [-7.89169371e-02],\n",
       "        [-2.59697642e-02],\n",
       "        [ 1.42285332e-01],\n",
       "        [ 3.99735063e-01],\n",
       "        [ 2.63255090e-01],\n",
       "        [ 4.61168140e-02],\n",
       "        [ 8.89383480e-02],\n",
       "        [ 2.48912781e-01],\n",
       "        [ 2.45648809e-02],\n",
       "        [-1.97334103e-02],\n",
       "        [ 3.88019383e-02],\n",
       "        [ 1.88325390e-01],\n",
       "        [ 3.21572870e-02],\n",
       "        [ 2.01965824e-01],\n",
       "        [ 1.44870341e-01],\n",
       "        [ 1.41299486e-01],\n",
       "        [ 2.00104520e-01],\n",
       "        [ 2.22119540e-02],\n",
       "        [ 1.76171347e-01],\n",
       "        [-2.83916324e-01],\n",
       "        [-2.12343454e-01],\n",
       "        [ 8.37680921e-02],\n",
       "        [ 4.40377044e-03],\n",
       "        [ 1.23764239e-01],\n",
       "        [ 1.97772443e-01],\n",
       "        [-2.44439676e-01],\n",
       "        [-2.30387866e-01],\n",
       "        [ 1.95570678e-01],\n",
       "        [-5.69049530e-02],\n",
       "        [ 1.32008702e-01],\n",
       "        [-6.38029799e-02],\n",
       "        [-6.94546923e-02],\n",
       "        [-1.76843718e-01],\n",
       "        [ 4.09877092e-01],\n",
       "        [ 6.67166039e-02],\n",
       "        [ 2.29492098e-01],\n",
       "        [ 9.23836380e-02],\n",
       "        [ 3.03039342e-01],\n",
       "        [-3.30120921e-01],\n",
       "        [ 1.54753625e-01],\n",
       "        [ 2.10530907e-01],\n",
       "        [-6.91072121e-02],\n",
       "        [-1.70976713e-01],\n",
       "        [ 1.21043183e-01],\n",
       "        [ 2.11957425e-01],\n",
       "        [-1.62608787e-01],\n",
       "        [ 4.36476052e-01],\n",
       "        [ 1.48054376e-01],\n",
       "        [-4.52373803e-01],\n",
       "        [-1.80643663e-01],\n",
       "        [ 2.55501401e-02]], dtype=float32),\n",
       " array([0.40080065], dtype=float32)]"
      ]
     },
     "execution_count": 4,
     "metadata": {},
     "output_type": "execute_result"
    }
   ],
   "source": [
    "model.get_weights()"
   ]
  },
  {
   "cell_type": "code",
   "execution_count": 8,
   "metadata": {},
   "outputs": [],
   "source": [
    "# Decode Function\n",
    "def decode_review(review):\n",
    "    return ' '.join([reverse_word_index.get(i-3,'?') for i in review])\n",
    "#Function to preprocess user_input\n",
    "def preprocess_input(user_input):\n",
    "    words = user_input.lower().split()\n",
    "    encoded_review = [word_index.get(word, 2) + 3 for word in words]\n",
    "    # Clip the indices to be within the vocab_size - 1\n",
    "    encoded_review = [min(index, vocab_size - 1) for index in encoded_review]\n",
    "    padded_review = sequence.pad_sequences([encoded_review], maxlen=500)\n",
    "    return padded_review"
   ]
  },
  {
   "cell_type": "code",
   "execution_count": 9,
   "metadata": {},
   "outputs": [],
   "source": [
    "## Prediction function\n",
    "def predict_sentiment(review):\n",
    "    preprocessed_input = preprocess_input(review)\n",
    "    prediction= model.predict(preprocessed_input)\n",
    "    sentiment ='Positive' if prediction[0][0]>0.5 else 'Negative'\n",
    "    return sentiment, prediction[0][0]"
   ]
  },
  {
   "cell_type": "code",
   "execution_count": 10,
   "metadata": {},
   "outputs": [
    {
     "name": "stdout",
     "output_type": "stream",
     "text": [
      "\u001b[1m1/1\u001b[0m \u001b[32m━━━━━━━━━━━━━━━━━━━━\u001b[0m\u001b[37m\u001b[0m \u001b[1m0s\u001b[0m 19ms/step\n",
      "Review: The Black Panther was an amazing movie.\n",
      "Sentiment: Positive\n",
      "Score: 0.9862111806869507\n"
     ]
    }
   ],
   "source": [
    "# Define the example review\n",
    "example_review = \"The Black Panther was an amazing movie.\"\n",
    "\n",
    "sentiment, score = predict_sentiment(example_review)\n",
    "\n",
    "print(f'Review: {example_review}')\n",
    "print(f'Sentiment: {sentiment}')\n",
    "print(f'Score: {score}')\n"
   ]
  },
  {
   "cell_type": "code",
   "execution_count": null,
   "metadata": {},
   "outputs": [],
   "source": []
  }
 ],
 "metadata": {
  "kernelspec": {
   "display_name": "Python 3",
   "language": "python",
   "name": "python3"
  },
  "language_info": {
   "codemirror_mode": {
    "name": "ipython",
    "version": 3
   },
   "file_extension": ".py",
   "mimetype": "text/x-python",
   "name": "python",
   "nbconvert_exporter": "python",
   "pygments_lexer": "ipython3",
   "version": "3.11.6"
  }
 },
 "nbformat": 4,
 "nbformat_minor": 2
}
